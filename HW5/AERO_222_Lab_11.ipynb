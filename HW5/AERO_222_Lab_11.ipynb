{
 "cells": [
  {
   "cell_type": "code",
   "execution_count": 2,
   "metadata": {},
   "outputs": [],
   "source": [
    "import numpy as np\n",
    "import matplotlib.pyplot as plt"
   ]
  },
  {
   "attachments": {},
   "cell_type": "markdown",
   "metadata": {},
   "source": [
    "# Numerical Integration\n",
    "\n",
    "- Midpoint Method\n",
    "- Trapezoid Method\n",
    "- Simpson's Method\n",
    "- Gauss-Legendre Quadrature\n",
    "- Richardson Extrapolation\n",
    "\n",
    "Use each of the methods to integrate the function\n",
    "\n",
    "$$y(x) = \\cos(2x)$$\n",
    "\n",
    "whose definite integral bounded by $x \\in [0,\\pi/3]$ is given by\n",
    "\n",
    "$$\\int_0^{\\pi/3} y(x)dx = \\left. \\frac{1}{2}\\sin(2x) \\right\\rvert_0^{\\pi/3}$$"
   ]
  },
  {
   "cell_type": "code",
   "execution_count": 3,
   "metadata": {},
   "outputs": [
    {
     "name": "stdout",
     "output_type": "stream",
     "text": [
      "True integral: 0.43301270189221935\n"
     ]
    }
   ],
   "source": [
    "# integration bounds\n",
    "a = 0\n",
    "b = np.pi/3\n",
    "\n",
    "def y(x):\n",
    "    return np.cos(2*x)\n",
    "\n",
    "def Y(x):\n",
    "    return 0.5*np.sin(2*x)\n",
    "\n",
    "# true integral\n",
    "int_true = Y(b) - Y(a)\n",
    "print(f'True integral: {int_true}')"
   ]
  },
  {
   "attachments": {},
   "cell_type": "markdown",
   "metadata": {},
   "source": [
    "# Midpoint Method\n",
    "\n",
    "Subdivide the bounded region of $x \\in [a,b]$ into $n$ partitions.\n",
    "\n",
    "$$a = x_0 < x_1 < x_2 < \\ldots < x_{n-2} < x_{n-1} < x_n = b$$\n",
    "\n",
    "The midpoint rule for estimating a definite integral uses a Riemann sum of rectangles with subintervals, typically of equal width. The height of each rectangle corresponds to $f(x)$ evaluated at the midpoints of the $n$ subintervals. The midpoint method can be computed with the formula\n",
    "\n",
    "$$\\boxed{\\int_a^b f(x)dx \\approx h \\sum_{i=0}^{n-1} f\\left(\\frac{x_i + x_{i+1}}{2}\\right)}~, ~~~ \\text{where} ~~~ h = \\frac{b-a}{n}$$\n",
    "\n",
    "**Note: This method requires a function and cannot use tabular data.**"
   ]
  },
  {
   "attachments": {},
   "cell_type": "markdown",
   "metadata": {},
   "source": [
    "## Example\n",
    "\n",
    "Estimate the following integral using the Midpoint Method with a partition size of $n = 50$.\n",
    "\n",
    "$$\\int_0^{\\pi/3} \\cos(2x)dx$$\n",
    "\n",
    "Compute the absolute error of this approximation."
   ]
  },
  {
   "cell_type": "code",
   "execution_count": 14,
   "metadata": {},
   "outputs": [
    {
     "name": "stdout",
     "output_type": "stream",
     "text": [
      "True integral:      0.433013\n",
      "Estimated integral: 0.433044\n",
      "Absolute error:     3.165839e-05\n",
      "Step size:          2.094395e-02\n"
     ]
    }
   ],
   "source": [
    "n = 50\n",
    "a = 0\n",
    "b = np.pi/3\n",
    "\n",
    "def midpoint(f,a,b,n):\n",
    "    # f: function handle\n",
    "    # [a,b]: integration bounds\n",
    "    # n: # of partitions\n",
    "    x = np.linspace(a,b,n+1)\n",
    "    h = (b-a)/n\n",
    "\n",
    "    sum = 0\n",
    "    for i in range(0,n):\n",
    "        sum += f((x[i] + x[i+1]) / 2) # midpoint method\n",
    "\n",
    "    result = h*sum\n",
    "    return result\n",
    "\n",
    "int_est = midpoint(y,a,b,n)\n",
    "int_err = abs(int_est - int_true)\n",
    "\n",
    "print(f'True integral:      {int_true:0.6f}')\n",
    "print(f'Estimated integral: {int_est:0.6f}')\n",
    "print(f'Absolute error:     {int_err:0.6e}')\n",
    "print(f'Step size:          {(b-a)/n:0.6e}')"
   ]
  },
  {
   "attachments": {},
   "cell_type": "markdown",
   "metadata": {},
   "source": [
    "# Trapezoid Method\n",
    "\n",
    "Subdivide the bounded region of $x \\in [a,b]$ into $n$ partitions.\n",
    "\n",
    "$$a = x_0 < x_1 < x_2 < \\ldots < x_{n-2} < x_{n-1} < x_n = b$$\n",
    "\n",
    "The Trapezoid Method fits a trapezoid into each subinterval and sums the areas of the trapezoid to approximate the total integral. For each subinterval, the Trapezoid Method computes the area of a trapezoid with corners at $(x_i,0)$, $(x_{i+1},0)$, $(x_i,f(x_i))$, and $(x_{i+1},f(x_{i+1}))$, which is $ h \\frac{f(x_i)+f(x_{i+1})}{2}$. The Trapezoid Method approximates integrals according to the expression\n",
    "\n",
    "$$\\boxed{\\int_a^b f(x)dx \\approx \\frac{h}{2} \\left[ f(x_0) + 2 \\left(\\sum_{i=1}^{n-1} f(x_i)\\right) + f(x_n) \\right]}~, ~~~ \\text{where} ~~~ h = \\frac{b-a}{n}$$"
   ]
  },
  {
   "attachments": {},
   "cell_type": "markdown",
   "metadata": {},
   "source": [
    "## Example\n",
    "\n",
    "Estimate the integral below using the Trapezoidal Method for a range of partitions, $n \\in [10,100]$.\n",
    "\n",
    "$$\\int_0^{\\pi/3} \\cos(2x)dx$$\n",
    "\n",
    "Plot the estimate versus the number of partitions and the relative error versus the number of partitions."
   ]
  },
  {
   "cell_type": "code",
   "execution_count": 18,
   "metadata": {},
   "outputs": [
    {
     "data": {
      "image/png": "[encoded data removed]",
      "text/plain": [
       "<Figure size 640x480 with 1 Axes>"
      ]
     },
     "metadata": {},
     "output_type": "display_data"
    }
   ],
   "source": [
    "nSpan = np.arange(10,101,1)\n",
    "a = 0\n",
    "b = np.pi/3\n",
    "\n",
    "def trapezoid(f,a,b,n):\n",
    "    # f: function handle\n",
    "    # [a,b]: integration bounds\n",
    "    # n: # of partitions\n",
    "    x = np.linspace(a,b,n+1)\n",
    "    h = (b-a)/n\n",
    "\n",
    "    sum = 0\n",
    "    for i in range(1,n):\n",
    "        sum += f(x[i]) # trapezoid method\n",
    "\n",
    "    result = h/2 * (f(x[0]) + 2*sum + f(x[n]))\n",
    "    return result\n",
    "\n",
    "int_est = np.zeros_like(nSpan,dtype=float)\n",
    "for n in nSpan:\n",
    "    int_est[n-nSpan[0]] = trapezoid(y,a,b,n)\n",
    "\n",
    "plt.plot(nSpan,int_est)\n",
    "plt.show()"
   ]
  },
  {
   "cell_type": "code",
   "execution_count": 24,
   "metadata": {},
   "outputs": [
    {
     "data": {
      "image/png": "[encoded data removed]",
      "text/plain": [
       "<Figure size 640x480 with 1 Axes>"
      ]
     },
     "metadata": {},
     "output_type": "display_data"
    }
   ],
   "source": [
    "int_err = abs(int_est - int_true)\n",
    "plt.semilogy(nSpan,int_err)\n",
    "plt.show()"
   ]
  },
  {
   "attachments": {},
   "cell_type": "markdown",
   "metadata": {},
   "source": [
    "# Simpson's Method\n",
    "\n",
    "Consider two consecutive subintervals, $[x_{i−1},x_i]$ and $[x_i,x_{i+1}]$. Simpson’s Method approximates the area under $f(x)$ over these two subintervals by fitting a quadratic polynomial through the points $(x_{i−1},f(_{xi−1}))$, $(x_i,f(x_i))$, and $(x_{i+1},f(x_{i+1}))$, which is a unique polynomial, and then integrating the quadratic exactly to get\n",
    "\n",
    "$$\\int_{x-i}^{x+i}P_i(x) = \\frac{h}{3} (f(x_{i-1}) + 4f(x_i) + f(x_{i+1}))$$\n",
    "\n",
    "Divide the interval $[a,b]$ into $n$ paritions to be integrated. Each partition consists of two subintervals, each of length $h = \\frac{b-a}{2n}$. We introduce the points $x_i = a + ih$ for $0 \\leq i \\leq n$ (notice how $x_0 = a$ and $x_{2n} = b$). To approximate the integral over $[a,b]$, we must sum the integrals of $P_i(x)$ over every two subintervals since $P_i(x)$ spans two subintervals. Substituting $\\frac{h}{3} (f(x_{i−1})+4f(x_i)+f(x_{i+1}))$ for the integral of $P_i(x)$ and regrouping the terms for efficiency leads to the formula\n",
    "\n",
    "$$\\boxed{\\int_a^b f(x)dx \\approx \\frac{h}{3} \\left[ f(x_0) + 4 \\left(\\sum_{i=0}^{n-1} f(x_{2i+1})\\right) + 2 \\left(\\sum_{i=1}^{n-1} f(x_{2i})\\right) + f(x_{2n}) \\right]}~, ~~~ \\text{where} ~~~ h = \\frac{b-a}{2n}$$\n",
    "\n",
    "To integrate discrete data points, replace each instance of the continuous function $f(x_k)$ with the discrete value $y_k$.\n",
    "\n",
    "**Note: To use this method, you must have an even number of subintervals and, therefore, an odd number of data points.**"
   ]
  },
  {
   "attachments": {},
   "cell_type": "markdown",
   "metadata": {},
   "source": [
    "## Example\n",
    "\n",
    "Estimate the following integral using the Simpson's Method with a partition size of $n = 50$ (note that this implies there will be 100 subintervals).\n",
    "\n",
    "$$\\int_0^{\\pi/3} \\cos(2x)dx$$\n",
    "\n",
    "Compute the absolute error of this approximation."
   ]
  },
  {
   "cell_type": "code",
   "execution_count": 26,
   "metadata": {},
   "outputs": [
    {
     "name": "stdout",
     "output_type": "stream",
     "text": [
      "True integral:      0.433013\n",
      "Estimated integral: 0.433013\n",
      "Absolute error:     4.628979e-10\n",
      "Step size:          1.047198e-02\n"
     ]
    }
   ],
   "source": [
    "n = 50\n",
    "a = 0\n",
    "b = np.pi/3\n",
    "\n",
    "def Simpson(f,a,b,n):\n",
    "    # f: function handle\n",
    "    # [a,b]: integration bounds\n",
    "    # n: # of partitions\n",
    "    x = np.linspace(a,b,2*n+1)\n",
    "    h = (b-a)/(2*n)\n",
    "\n",
    "    sum1 = 0\n",
    "    sum2 = 0\n",
    "    for i in range(0,n):\n",
    "        sum1 += f(x[2*i+1])\n",
    "        if i != 0:\n",
    "            sum2 += f(x[2*i])\n",
    "\n",
    "    result = h/3 * (f(x[0]) + 4*sum1 + 2*sum2 + f(x[2*n]))\n",
    "    return result\n",
    "\n",
    "int_est = Simpson(y,a,b,n)\n",
    "int_err = abs(int_est - int_true)\n",
    "\n",
    "print(f'True integral:      {int_true:0.6f}')\n",
    "print(f'Estimated integral: {int_est:0.6f}')\n",
    "print(f'Absolute error:     {int_err:0.6e}')\n",
    "print(f'Step size:          {(b-a)/(2*n):0.6e}')"
   ]
  },
  {
   "attachments": {},
   "cell_type": "markdown",
   "metadata": {},
   "source": [
    "# Gauss-Legendre Quadrature\n",
    "\n",
    "Gauss-Legendre Quadrature assumes the following form:\n",
    "\n",
    "$$\\int_{-1}^1 f(\\rho)d\\rho \\approx \\sum_{i=1}^n w_i f(\\rho_i)$$\n",
    "\n",
    "Use a linear transformation to map the original interval of integration, $x \\in [a,b]$, onto a new interval $\\rho \\in [-1,1]$.\n",
    "\n",
    "$$\\frac{\\lambda - \\sigma_1}{\\sigma_2 - \\sigma_1} = \\frac{\\sigma - \\lambda_1}{\\lambda_2 - \\lambda_1}$$\n",
    "\n",
    "$$\\downarrow$$\n",
    "\n",
    "$$\\frac{x - (-1)}{(+1) - (-1)} = \\frac{\\rho - a}{b - a}$$\n",
    "\n",
    "$$\\Downarrow$$\n",
    "\n",
    "$$\\boxed{\\rho = \\frac{(x+1)(b-a)}{2} + a ~,~~~ d\\rho = \\frac{b-a}{2}dx} ~~~~~ \\text{and} ~~~~~ \\boxed{x = 2 \\frac{\\rho-a}{b-a} - 1 ~,~~~ dx = \\frac{2}{b-a}d\\rho}$$\n",
    "\n",
    "Substituting these results back into the Gauss-Legendre equations, we get\n",
    "\n",
    "$$\\boxed{\\int_a^b f(x)dx = \\frac{b-a}{2} \\int_{-1}^1 f \\left( \\frac{(x+1)(b-a)}{2} + a \\right) d\\rho \\approx \\frac{b-a}{2} \\sum_{i=1}^n w_i f\\left( \\frac{(x+1)(b-a)}{2} + a \\right)}$$\n",
    "\n",
    "where $w_i$ are the weights and $\\rho_i$ are the sampling points.\n",
    "\n",
    "**Note: This method is not appropriate for cases where the function is unknown or for dealing with tabulated data.**"
   ]
  },
  {
   "attachments": {},
   "cell_type": "markdown",
   "metadata": {},
   "source": [
    "## Example\n",
    "\n",
    "Estimate the following integral using 2-point and multi-point Gauss-Legendre Quadrature.\n",
    "\n",
    "$$\\int_0^{\\pi/3} \\cos(2x)dx$$\n",
    "\n",
    "Compute the absolute error of this approximation."
   ]
  },
  {
   "cell_type": "code",
   "execution_count": 28,
   "metadata": {},
   "outputs": [
    {
     "name": "stdout",
     "output_type": "stream",
     "text": [
      "True integral:      0.433013\n",
      "Estimated integral: 0.430780\n",
      "Absolute error:     2.232461e-03\n"
     ]
    }
   ],
   "source": [
    "def GaussQuad2pt(f,a,b):\n",
    "    w = np.array([1,1]) # weights\n",
    "    rho = np.array([-1/np.sqrt(3),1/np.sqrt(3)]) # integration/sampling points\n",
    "\n",
    "    # linear mapping\n",
    "    x = 0.5*(1-rho)*a + 0.5*(1+rho)*b\n",
    "    dx = (b-a)/2\n",
    "\n",
    "    sum_GL = 0\n",
    "    for i in range(len(rho)):\n",
    "        sum_GL += w[i]*f(x[i])\n",
    "\n",
    "    result = sum_GL*dx\n",
    "    return result\n",
    "\n",
    "int_est = GaussQuad2pt(y,a,b)\n",
    "int_err = abs(int_est - int_true)\n",
    "\n",
    "print(f'True integral:      {int_true:0.6f}')\n",
    "print(f'Estimated integral: {int_est:0.6f}')\n",
    "print(f'Absolute error:     {int_err:0.6e}')"
   ]
  },
  {
   "cell_type": "code",
   "execution_count": 32,
   "metadata": {},
   "outputs": [
    {
     "name": "stdout",
     "output_type": "stream",
     "text": [
      "True integral:      0.433013\n",
      "\n",
      "3 points\n",
      "Estimated integral: 0.433034\n",
      "Absolute error:     2.119727e-05\n",
      "\n",
      "4 points\n",
      "Estimated integral: 0.433013\n",
      "Absolute error:     1.061065e-07\n",
      "\n",
      "5 points\n",
      "Estimated integral: 0.433013\n",
      "Absolute error:     3.279308e-10\n",
      "\n",
      "6 points\n",
      "Estimated integral: 0.433013\n",
      "Absolute error:     6.878387e-13\n",
      "\n"
     ]
    }
   ],
   "source": [
    "def GaussQuad(f,a,b,n):\n",
    "    [rho,w] = np.polynomial.legendre.leggauss(n)\n",
    "\n",
    "    # linear mapping\n",
    "    x = 0.5*(1-rho)*a + 0.5*(1+rho)*b\n",
    "    dx = (b-a)/2\n",
    "\n",
    "    sum_GL = 0\n",
    "    for i in range(len(rho)):\n",
    "        sum_GL += w[i]*f(x[i])\n",
    "\n",
    "    result = sum_GL*dx\n",
    "    return result\n",
    "\n",
    "print(f'True integral:      {int_true:0.6f}\\n')\n",
    "\n",
    "for n in range(3,7):\n",
    "    int_est = GaussQuad(y,a,b,n)\n",
    "    int_err = abs(int_est - int_true)\n",
    "\n",
    "    print(f'{n} points')\n",
    "    print(f'Estimated integral: {int_est:0.6f}')\n",
    "    print(f'Absolute error:     {int_err:0.6e}\\n')"
   ]
  },
  {
   "attachments": {},
   "cell_type": "markdown",
   "metadata": {},
   "source": [
    "# Richardson Extrapolation\n",
    "\n",
    "Refer to slides in class notes."
   ]
  }
 ],
 "metadata": {
  "kernelspec": {
   "display_name": "aero222",
   "language": "python",
   "name": "python3"
  },
  "language_info": {
   "codemirror_mode": {
    "name": "ipython",
    "version": 3
   },
   "file_extension": ".py",
   "mimetype": "text/x-python",
   "name": "python",
   "nbconvert_exporter": "python",
   "pygments_lexer": "ipython3",
   "version": "3.9.16"
  },
  "orig_nbformat": 4
 },
 "nbformat": 4,
 "nbformat_minor": 2
}
